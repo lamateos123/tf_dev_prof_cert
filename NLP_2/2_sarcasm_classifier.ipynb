{
 "cells": [
  {
   "cell_type": "code",
   "execution_count": 1,
   "metadata": {},
   "outputs": [],
   "source": [
    "# Training a binary classifier with the Sarcasm Dataset\n",
    "\n",
    "import json\n",
    "\n",
    "# Load JSON file\n",
    "with open(\"sarcasm.json\",'r') as f:\n",
    "    d = json.load(f)\n",
    "    \n",
    "# Init the lists\n",
    "sentences = []\n",
    "labels = []\n",
    "\n",
    "# Populate data into the lists\n",
    "for i in d:\n",
    "    sentences.append(i['headline'])\n",
    "    labels.append(i['is_sarcastic'])"
   ]
  },
  {
   "cell_type": "code",
   "execution_count": 2,
   "metadata": {},
   "outputs": [],
   "source": [
    "# Hyperparameters\n",
    "# Number of training examples\n",
    "training_size = 20000\n",
    "\n",
    "# Tokenizer vocabulary size \n",
    "vocab_size = 10000\n",
    "\n",
    "# Padded sequences maximum length\n",
    "max_length = 32\n",
    "\n",
    "# Embedding layer output dimensions\n",
    "embedding_dim = 16"
   ]
  },
  {
   "cell_type": "code",
   "execution_count": 3,
   "metadata": {},
   "outputs": [],
   "source": [
    "# Split the data\n",
    "\n",
    "# Split sentences\n",
    "training_sentences = sentences[0:training_size]\n",
    "testing_sentences = sentences[training_size:]\n",
    "\n",
    "# Split labels\n",
    "training_labels = labels[0:training_size]\n",
    "testing_labels = labels[training_size:]"
   ]
  },
  {
   "cell_type": "code",
   "execution_count": 4,
   "metadata": {},
   "outputs": [],
   "source": [
    "# Pre-processing the train and test sets\n",
    "\n",
    "import numpy as np\n",
    "from tensorflow.keras.preprocessing.text import Tokenizer\n",
    "from tensorflow.keras.preprocessing.sequence import pad_sequences\n",
    "\n",
    "# Parameters for padding and OOV tokens\n",
    "trunc_type = 'post'\n",
    "padding_type = 'post'\n",
    "oov_tok = \"<OOV>\"\n",
    "\n",
    "# Init Tokenizer class\n",
    "tokenizer = Tokenizer(num_words=vocab_size, oov_token=oov_tok)\n",
    "\n",
    "# Generate word index dict\n",
    "tokenizer.fit_on_texts(training_sentences)\n",
    "word_index = tokenizer.word_index\n",
    "\n",
    "# Generate and pad training sequences\n",
    "training_sequences = tokenizer.texts_to_sequences(training_sentences)\n",
    "training_padded = pad_sequences(training_sequences, maxlen=max_length, padding=padding_type, truncating=trunc_type)\n",
    "\n",
    "# Generate and pad testing sequences\n",
    "testing_sequences = tokenizer.texts_to_sequences(testing_sentences)\n",
    "testing_padded = pad_sequences(testing_sequences, maxlen=max_length, padding=padding_type, truncating=trunc_type)\n",
    "\n",
    "# Convert the labels lists to numpy array\n",
    "training_labels = np.array(training_labels)\n",
    "testing_labels = np.array(testing_labels)"
   ]
  },
  {
   "cell_type": "code",
   "execution_count": 5,
   "metadata": {},
   "outputs": [
    {
     "name": "stdout",
     "output_type": "stream",
     "text": [
      "shape of sample_array = (1, 3, 2)\n",
      "sample array: [[[10  2]\n",
      "  [ 1  3]\n",
      "  [ 1  1]]]\n",
      "output shape of gap1d_layer: (1, 2)\n",
      "output array of gap1d_layer: [[4 2]]\n"
     ]
    }
   ],
   "source": [
    "# Build and Compile the Model\n",
    "\n",
    "# How GlobalAveragePooling1d works\n",
    "# This reduces the dimensionality of the model as compared with Flatten()\n",
    "# The number of training parameters will also decrease\n",
    "\n",
    "import tensorflow as tf\n",
    "\n",
    "# Initialize a GlobalAveragePooling1D (GAP1D) layer\n",
    "gap1d_layer = tf.keras.layers.GlobalAveragePooling1D()\n",
    "\n",
    "# Define sample array\n",
    "sample_array = np.array([[[10,2],[1,3],[1,1]]])\n",
    "\n",
    "# Print shape and contents of sample array\n",
    "print(f'shape of sample_array = {sample_array.shape}')\n",
    "print(f'sample array: {sample_array}')\n",
    "\n",
    "# Pass the sample array to the GAP1D layer\n",
    "output = gap1d_layer(sample_array)\n",
    "\n",
    "# Print shape and contents of the GAP1D output array\n",
    "print(f'output shape of gap1d_layer: {output.shape}')\n",
    "print(f'output array of gap1d_layer: {output.numpy()}')"
   ]
  },
  {
   "cell_type": "code",
   "execution_count": 6,
   "metadata": {},
   "outputs": [
    {
     "name": "stdout",
     "output_type": "stream",
     "text": [
      "Model: \"sequential\"\n",
      "_________________________________________________________________\n",
      "Layer (type)                 Output Shape              Param #   \n",
      "=================================================================\n",
      "embedding (Embedding)        (None, 32, 16)            160000    \n",
      "_________________________________________________________________\n",
      "flatten (Flatten)            (None, 512)               0         \n",
      "_________________________________________________________________\n",
      "dense (Dense)                (None, 24)                12312     \n",
      "_________________________________________________________________\n",
      "dense_1 (Dense)              (None, 1)                 25        \n",
      "=================================================================\n",
      "Total params: 172,337\n",
      "Trainable params: 172,337\n",
      "Non-trainable params: 0\n",
      "_________________________________________________________________\n"
     ]
    }
   ],
   "source": [
    "# Flatten model\n",
    "model = tf.keras.Sequential([\n",
    "    tf.keras.layers.Embedding(vocab_size, embedding_dim, input_length=max_length),\n",
    "    tf.keras.layers.Flatten(),\n",
    "    tf.keras.layers.Dense(24, activation='relu'),\n",
    "    tf.keras.layers.Dense(1, activation='sigmoid')\n",
    "])\n",
    "\n",
    "model.summary()"
   ]
  },
  {
   "cell_type": "code",
   "execution_count": 7,
   "metadata": {},
   "outputs": [
    {
     "name": "stdout",
     "output_type": "stream",
     "text": [
      "Model: \"sequential_1\"\n",
      "_________________________________________________________________\n",
      "Layer (type)                 Output Shape              Param #   \n",
      "=================================================================\n",
      "embedding_1 (Embedding)      (None, 32, 16)            160000    \n",
      "_________________________________________________________________\n",
      "global_average_pooling1d_1 ( (None, 16)                0         \n",
      "_________________________________________________________________\n",
      "dense_2 (Dense)              (None, 24)                408       \n",
      "_________________________________________________________________\n",
      "dense_3 (Dense)              (None, 1)                 25        \n",
      "=================================================================\n",
      "Total params: 160,433\n",
      "Trainable params: 160,433\n",
      "Non-trainable params: 0\n",
      "_________________________________________________________________\n"
     ]
    }
   ],
   "source": [
    "# Global Average Pooling 1D model\n",
    "model = tf.keras.Sequential([\n",
    "    tf.keras.layers.Embedding(vocab_size, embedding_dim, input_length=max_length),\n",
    "    tf.keras.layers.GlobalAveragePooling1D(),\n",
    "    tf.keras.layers.Dense(24, activation='relu'),\n",
    "    tf.keras.layers.Dense(1, activation='sigmoid')\n",
    "])\n",
    "\n",
    "model.summary()"
   ]
  },
  {
   "cell_type": "code",
   "execution_count": 8,
   "metadata": {},
   "outputs": [],
   "source": [
    "# Compile the model\n",
    "model.compile(loss='binary_crossentropy',\n",
    "             optimizer='adam',\n",
    "             metrics=['accuracy'])"
   ]
  },
  {
   "cell_type": "code",
   "execution_count": 9,
   "metadata": {},
   "outputs": [
    {
     "name": "stdout",
     "output_type": "stream",
     "text": [
      "Epoch 1/30\n",
      "625/625 - 2s - loss: 0.5556 - accuracy: 0.7030 - val_loss: 0.3934 - val_accuracy: 0.8289\n",
      "Epoch 2/30\n",
      "625/625 - 1s - loss: 0.3063 - accuracy: 0.8760 - val_loss: 0.3461 - val_accuracy: 0.8466\n",
      "Epoch 3/30\n",
      "625/625 - 1s - loss: 0.2294 - accuracy: 0.9119 - val_loss: 0.3462 - val_accuracy: 0.8495\n",
      "Epoch 4/30\n",
      "625/625 - 1s - loss: 0.1847 - accuracy: 0.9304 - val_loss: 0.3608 - val_accuracy: 0.8535\n",
      "Epoch 5/30\n",
      "625/625 - 1s - loss: 0.1536 - accuracy: 0.9428 - val_loss: 0.3956 - val_accuracy: 0.8438\n",
      "Epoch 6/30\n",
      "625/625 - 1s - loss: 0.1295 - accuracy: 0.9541 - val_loss: 0.4319 - val_accuracy: 0.8433\n",
      "Epoch 7/30\n",
      "625/625 - 1s - loss: 0.1114 - accuracy: 0.9622 - val_loss: 0.4625 - val_accuracy: 0.8416\n",
      "Epoch 8/30\n",
      "625/625 - 1s - loss: 0.0957 - accuracy: 0.9675 - val_loss: 0.5127 - val_accuracy: 0.8380\n",
      "Epoch 9/30\n",
      "625/625 - 1s - loss: 0.0837 - accuracy: 0.9724 - val_loss: 0.5532 - val_accuracy: 0.8319\n",
      "Epoch 10/30\n",
      "625/625 - 1s - loss: 0.0727 - accuracy: 0.9764 - val_loss: 0.6212 - val_accuracy: 0.8292\n",
      "Epoch 11/30\n",
      "625/625 - 1s - loss: 0.0635 - accuracy: 0.9802 - val_loss: 0.6711 - val_accuracy: 0.8262\n",
      "Epoch 12/30\n",
      "625/625 - 1s - loss: 0.0562 - accuracy: 0.9829 - val_loss: 0.7786 - val_accuracy: 0.8159\n",
      "Epoch 13/30\n",
      "625/625 - 1s - loss: 0.0494 - accuracy: 0.9854 - val_loss: 0.7616 - val_accuracy: 0.8216\n",
      "Epoch 14/30\n",
      "625/625 - 1s - loss: 0.0427 - accuracy: 0.9872 - val_loss: 0.8256 - val_accuracy: 0.8183\n",
      "Epoch 15/30\n",
      "625/625 - 1s - loss: 0.0382 - accuracy: 0.9888 - val_loss: 0.8729 - val_accuracy: 0.8170\n",
      "Epoch 16/30\n",
      "625/625 - 1s - loss: 0.0323 - accuracy: 0.9910 - val_loss: 0.9320 - val_accuracy: 0.8158\n",
      "Epoch 17/30\n",
      "625/625 - 1s - loss: 0.0298 - accuracy: 0.9912 - val_loss: 1.0180 - val_accuracy: 0.8111\n",
      "Epoch 18/30\n",
      "625/625 - 1s - loss: 0.0266 - accuracy: 0.9926 - val_loss: 1.0558 - val_accuracy: 0.8103\n",
      "Epoch 19/30\n",
      "625/625 - 1s - loss: 0.0235 - accuracy: 0.9937 - val_loss: 1.1206 - val_accuracy: 0.8107\n",
      "Epoch 20/30\n",
      "625/625 - 1s - loss: 0.0205 - accuracy: 0.9942 - val_loss: 1.1739 - val_accuracy: 0.8079\n",
      "Epoch 21/30\n",
      "625/625 - 1s - loss: 0.0197 - accuracy: 0.9949 - val_loss: 1.2235 - val_accuracy: 0.8092\n",
      "Epoch 22/30\n",
      "625/625 - 2s - loss: 0.0169 - accuracy: 0.9949 - val_loss: 1.3088 - val_accuracy: 0.8086\n",
      "Epoch 23/30\n",
      "625/625 - 2s - loss: 0.0157 - accuracy: 0.9959 - val_loss: 1.3305 - val_accuracy: 0.8061\n",
      "Epoch 24/30\n",
      "625/625 - 2s - loss: 0.0135 - accuracy: 0.9969 - val_loss: 1.3789 - val_accuracy: 0.8064\n",
      "Epoch 25/30\n",
      "625/625 - 1s - loss: 0.0120 - accuracy: 0.9971 - val_loss: 1.4258 - val_accuracy: 0.8079\n",
      "Epoch 26/30\n",
      "625/625 - 2s - loss: 0.0121 - accuracy: 0.9967 - val_loss: 1.5161 - val_accuracy: 0.8052\n",
      "Epoch 27/30\n",
      "625/625 - 2s - loss: 0.0104 - accuracy: 0.9971 - val_loss: 1.5347 - val_accuracy: 0.8024\n",
      "Epoch 28/30\n",
      "625/625 - 2s - loss: 0.0102 - accuracy: 0.9973 - val_loss: 1.6262 - val_accuracy: 0.8044\n",
      "Epoch 29/30\n",
      "625/625 - 2s - loss: 0.0091 - accuracy: 0.9976 - val_loss: 1.6916 - val_accuracy: 0.8028\n",
      "Epoch 30/30\n",
      "625/625 - 2s - loss: 0.0082 - accuracy: 0.9980 - val_loss: 1.7417 - val_accuracy: 0.8041\n"
     ]
    }
   ],
   "source": [
    "# Train the Model\n",
    "# verbose 2 -> print just the results per epoch\n",
    "# verbose 1 -> displays a progress bar per epoch\n",
    "# verbose 0 -> Nothing\n",
    "\n",
    "num_epochs = 30\n",
    "\n",
    "history = model.fit(training_padded, training_labels, epochs=num_epochs,\n",
    "                   validation_data=(testing_padded, testing_labels), verbose=2)"
   ]
  },
  {
   "cell_type": "code",
   "execution_count": 10,
   "metadata": {},
   "outputs": [
    {
     "data": {
      "image/png": "[encoded data removed]",
      "text/plain": [
       "<Figure size 432x288 with 1 Axes>"
      ]
     },
     "metadata": {
      "needs_background": "light"
     },
     "output_type": "display_data"
    },
    {
     "data": {
      "image/png": "[encoded data removed]",
      "text/plain": [
       "<Figure size 432x288 with 1 Axes>"
      ]
     },
     "metadata": {
      "needs_background": "light"
     },
     "output_type": "display_data"
    }
   ],
   "source": [
    "# Visualize the results\n",
    "# overfit because validation accuracy is slowly dropping while training accuracy is growing\n",
    "import matplotlib.pyplot as plt\n",
    "%matplotlib inline\n",
    "\n",
    "def plot_graphs(history, string):\n",
    "    plt.plot(history.history[string])\n",
    "    plt.plot(history.history['val_'+string])\n",
    "    plt.xlabel(\"Epochs\")\n",
    "    plt.ylabel(string)\n",
    "    plt.legend([string, 'val_'+string])\n",
    "    plt.show()\n",
    "    \n",
    "plot_graphs(history, \"accuracy\")\n",
    "plot_graphs(history, \"loss\")"
   ]
  },
  {
   "cell_type": "code",
   "execution_count": 11,
   "metadata": {},
   "outputs": [
    {
     "name": "stdout",
     "output_type": "stream",
     "text": [
      "(10000, 16)\n"
     ]
    }
   ],
   "source": [
    "# Visualize Word Embeddings\n",
    "\n",
    "# Get the index word dictionary\n",
    "reverse_word_index = tokenizer.index_word\n",
    "\n",
    "# Get the embedding layer from the model (i.e. first layer)\n",
    "embedding_layer = model.layers[0]\n",
    "\n",
    "# Get the weights of the embedding layer\n",
    "embedding_weights = embedding_layer.get_weights()[0]\n",
    "\n",
    "print(embedding_weights.shape)"
   ]
  },
  {
   "cell_type": "code",
   "execution_count": 13,
   "metadata": {},
   "outputs": [],
   "source": [
    "# Generate files with a loop\n",
    "# Loop vocab_size-1, skipping the 0 key because it is just for the padding\n",
    "\n",
    "import io\n",
    "\n",
    "# Open writeable files\n",
    "out_v = io.open('vecs_s.tsv', 'w', encoding='utf-8')\n",
    "out_m = io.open('meta_s.tsv', 'w', encoding='utf-8')\n",
    "\n",
    "# Init loop\n",
    "for word_num in range(1, vocab_size):\n",
    "    # Get the word associated at the current index\n",
    "    word_name = reverse_word_index[word_num]\n",
    "    \n",
    "    # Get the embedding weights associated with the current index\n",
    "    word_embedding = embedding_weights[word_num]\n",
    "    \n",
    "    # Write the word name\n",
    "    out_m.write(word_name + \"\\n\")\n",
    "    \n",
    "    # Write the word embedding\n",
    "    out_v.write('\\t'.join([str(x) for x in word_embedding]) + \"\\n\")\n",
    "    \n",
    "# Close the files\n",
    "out_v.close()\n",
    "out_m.close()"
   ]
  },
  {
   "cell_type": "code",
   "execution_count": null,
   "metadata": {},
   "outputs": [],
   "source": []
  }
 ],
 "metadata": {
  "kernelspec": {
   "display_name": "Python 3",
   "language": "python",
   "name": "python3"
  },
  "language_info": {
   "codemirror_mode": {
    "name": "ipython",
    "version": 3
   },
   "file_extension": ".py",
   "mimetype": "text/x-python",
   "name": "python",
   "nbconvert_exporter": "python",
   "pygments_lexer": "ipython3",
   "version": "3.7.4"
  }
 },
 "nbformat": 4,
 "nbformat_minor": 2
}
