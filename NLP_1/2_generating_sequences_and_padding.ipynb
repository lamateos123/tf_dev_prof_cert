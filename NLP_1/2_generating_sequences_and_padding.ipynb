{
 "cells": [
  {
   "cell_type": "code",
   "execution_count": 1,
   "metadata": {},
   "outputs": [],
   "source": [
    "# NLP Generating Sequences and Padding\n",
    "# 1. Convert input sentences into a sequence of tokens\n",
    "# 2. Prepare text data with uniform size before feeding in to the model\n",
    "#-----------------------------------------------------------------------\n",
    "# word_index = generate tokens for each word in your corpus text\n",
    "# texts_to_sequences() = converts each of the input sentences into a sequence of tokens"
   ]
  },
  {
   "cell_type": "code",
   "execution_count": 2,
   "metadata": {},
   "outputs": [
    {
     "name": "stdout",
     "output_type": "stream",
     "text": [
      "\n",
      "Word index =  {'<OOV>': 1, 'my': 2, 'love': 3, 'i': 4, 'dog': 5, 'you': 6, 'cat': 7, 'do': 8, 'think': 9, 'dig': 10, 'is': 11, 'amazing': 12}\n",
      "\n",
      "Sequences =  [[4, 3, 2, 5], [4, 3, 2, 7], [6, 3, 2, 5], [8, 6, 9, 2, 10, 11, 12]]\n"
     ]
    }
   ],
   "source": [
    "from tensorflow.keras.preprocessing.text import Tokenizer\n",
    "from tensorflow.keras.preprocessing.sequence import pad_sequences\n",
    "\n",
    "# Input texts\n",
    "sentences = [\n",
    "    \"I love my dog\",\n",
    "    \"I love my cat\",\n",
    "    \"You love my dog!\",\n",
    "    \"Do you think my dig is amazing?\"\n",
    "]\n",
    "\n",
    "# Init Tokenizer class OOV = Out Of Vocabulary\n",
    "tokenizer = Tokenizer(num_words = 100, oov_token=\"<OOV>\")\n",
    "\n",
    "# Tokenize input sentences\n",
    "tokenizer.fit_on_texts(sentences)\n",
    "\n",
    "# Word index dictionary\n",
    "word_index = tokenizer.word_index\n",
    "\n",
    "# Generate list of token sequences\n",
    "sequences = tokenizer.texts_to_sequences(sentences)\n",
    "\n",
    "print(\"\\nWord index = \", word_index)\n",
    "print(\"\\nSequences = \",sequences)"
   ]
  },
  {
   "cell_type": "code",
   "execution_count": 3,
   "metadata": {},
   "outputs": [
    {
     "name": "stdout",
     "output_type": "stream",
     "text": [
      "Default pre padding\n",
      "[[ 0  4  3  2  5]\n",
      " [ 0  4  3  2  7]\n",
      " [ 0  6  3  2  5]\n",
      " [ 9  2 10 11 12]]\n",
      "Post padding\n",
      "[[ 4  3  2  5  0  0  0]\n",
      " [ 4  3  2  7  0  0  0]\n",
      " [ 6  3  2  5  0  0  0]\n",
      " [ 8  6  9  2 10 11 12]]\n",
      "Post padding with maxlen and truncating\n",
      "[[ 4  3  2  5  0]\n",
      " [ 4  3  2  7  0]\n",
      " [ 6  3  2  5  0]\n",
      " [ 8  6  9  2 10]]\n"
     ]
    }
   ],
   "source": [
    "# PADDING\n",
    "# pad_sequences      truncating = from where to lose information\n",
    "# It will pad to the longest sequence\n",
    "# maxlen overrides to a specific length\n",
    "\n",
    "# Pad the sequences to a uniform length\n",
    "padded = pad_sequences(sequences, maxlen=5)\n",
    "print(\"Default pre padding\")\n",
    "print(padded)\n",
    "\n",
    "print(\"Post padding\")\n",
    "padded = pad_sequences(sequences, padding='post')\n",
    "print(padded)\n",
    "\n",
    "print(\"Post padding with maxlen and truncating\")\n",
    "padded = pad_sequences(sequences, padding='post', truncating='post', maxlen=5)\n",
    "print(padded)"
   ]
  },
  {
   "cell_type": "code",
   "execution_count": 4,
   "metadata": {},
   "outputs": [
    {
     "name": "stdout",
     "output_type": "stream",
     "text": [
      "Word index =  {'<OOV>': 1, 'my': 2, 'love': 3, 'i': 4, 'dog': 5, 'you': 6, 'cat': 7, 'do': 8, 'think': 9, 'dig': 10, 'is': 11, 'amazing': 12}\n",
      "Test sequence =  [[4, 1, 3, 2, 5], [2, 5, 1, 2, 1]]\n",
      "Padded test dequence = \n",
      "[[0 0 0 0 0 4 1 3 2 5]\n",
      " [0 0 0 0 0 2 5 1 2 1]]\n",
      "Padded test dequence = \n",
      "[[4 1 3 2 5 0 0 0 0 0]\n",
      " [2 5 1 2 1 0 0 0 0 0]]\n"
     ]
    }
   ],
   "source": [
    "# OUT-OF_VOCABULARY\n",
    "# collect more text after the initial training and decide to not re-generate the word_index\n",
    "\n",
    "# Words that the tokenizer was not fit to\n",
    "test_data = [\n",
    "    \"i really love my dog\",\n",
    "    \"my dog loves my parrot\"\n",
    "]\n",
    "\n",
    "# Generate the sequences\n",
    "test_seq = tokenizer.texts_to_sequences(test_data)\n",
    "\n",
    "print(\"Word index = \", word_index)\n",
    "print(\"Test sequence = \", test_seq)\n",
    "\n",
    "padded = pad_sequences(test_seq, maxlen=10)\n",
    "print(\"Padded test dequence = \")\n",
    "print(padded)\n",
    "\n",
    "padded = pad_sequences(test_seq, padding='post', maxlen=10)\n",
    "print(\"Padded test dequence = \")\n",
    "print(padded)\n"
   ]
  },
  {
   "cell_type": "code",
   "execution_count": null,
   "metadata": {},
   "outputs": [],
   "source": []
  }
 ],
 "metadata": {
  "kernelspec": {
   "display_name": "Python 3",
   "language": "python",
   "name": "python3"
  },
  "language_info": {
   "codemirror_mode": {
    "name": "ipython",
    "version": 3
   },
   "file_extension": ".py",
   "mimetype": "text/x-python",
   "name": "python",
   "nbconvert_exporter": "python",
   "pygments_lexer": "ipython3",
   "version": "3.7.4"
  }
 },
 "nbformat": 4,
 "nbformat_minor": 2
}
