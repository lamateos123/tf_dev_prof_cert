{
 "cells": [
  {
   "cell_type": "code",
   "execution_count": 1,
   "metadata": {},
   "outputs": [],
   "source": [
    "# BBC News archive ~2225 examples of news articles and their respective categories (labels)\n",
    "\n",
    "import csv\n",
    "from tensorflow.keras.preprocessing.text import Tokenizer\n",
    "from tensorflow.keras.preprocessing.sequence import pad_sequences"
   ]
  },
  {
   "cell_type": "code",
   "execution_count": 2,
   "metadata": {},
   "outputs": [
    {
     "name": "stdout",
     "output_type": "stream",
     "text": [
      "category,text\n",
      "\n",
      "tech,tv future in the hands of viewers with home theatre systems  plasma high-definition tvs  and digital video recorders moving into the living room  the way people watch tv will be radically different in five years  time.  that is according to an expert panel which gathered at the annual consumer electronics show in las vegas to discuss how these new technologies will impact one of our favourite pastimes. with the us leading the trend  programmes and other content will be delivered to viewers via home networks  through cable  satellite  telecoms companies  and broadband service providers to front rooms and portable devices.  one of the most talked-about technologies of ces has been digital and personal video recorders (dvr and pvr). these set-top boxes  like the us s tivo and the uk s sky+ system  allow people to record  store  play  pause and forward wind tv programmes when they want.  essentially  the technology allows for much more personalised tv. they are also being built-in to high-definition tv sets  which are big business in japan and the us  but slower to take off in europe because of the lack of high-definition programming. not only can people forward wind through adverts  they can also forget about abiding by network and channel schedules  putting together their own a-la-carte entertainment. but some us networks and cable and satellite companies are worried about what it means for them in terms of advertising revenues as well as  brand identity  and viewer loyalty to channels. although the us leads in this technology at the moment  it is also a concern that is being raised in europe  particularly with the growing uptake of services like sky+.  what happens here today  we will see in nine months to a years  time in the uk   adam hume  the bbc broadcast s futurologist told the bbc news website. for the likes of the bbc  there are no issues of lost advertising revenue yet. it is a more pressing issue at the moment for commercial uk broadcasters  but brand loyalty is important for everyone.  we will be talking more about content brands rather than network brands   said tim hanlon  from brand communications firm starcom mediavest.  the reality is that with broadband connections  anybody can be the producer of content.  he added:  the challenge now is that it is hard to promote a programme with so much choice.   what this means  said stacey jolna  senior vice president of tv guide tv group  is that the way people find the content they want to watch has to be simplified for tv viewers. it means that networks  in us terms  or channels could take a leaf out of google s book and be the search engine of the future  instead of the scheduler to help people find what they want to watch. this kind of channel model might work for the younger ipod generation which is used to taking control of their gadgets and what they play on them. but it might not suit everyone  the panel recognised. older generations are more comfortable with familiar schedules and channel brands because they know what they are getting. they perhaps do not want so much of the choice put into their hands  mr hanlon suggested.  on the other end  you have the kids just out of diapers who are pushing buttons already - everything is possible and available to them   said mr hanlon.  ultimately  the consumer will tell the market they want.   of the 50 000 new gadgets and technologies being showcased at ces  many of them are about enhancing the tv-watching experience. high-definition tv sets are everywhere and many new models of lcd (liquid crystal display) tvs have been launched with dvr capability built into them  instead of being external boxes. one such example launched at the show is humax s 26-inch lcd tv with an 80-hour tivo dvr and dvd recorder. one of the us s biggest satellite tv companies  directtv  has even launched its own branded dvr at the show with 100-hours of recording capability  instant replay  and a search function. the set can pause and rewind tv for up to 90 hours. and microsoft chief bill gates announced in his pre-show keynote speech a partnership with tivo  called tivotogo  which means people can play recorded programmes on windows pcs and mobile devices. all these reflect the increasing trend of freeing up multimedia so that people can watch what they want  when they want.\n",
      "\n"
     ]
    }
   ],
   "source": [
    "with open(\"bbc-text.csv\",'r') as csvfile:\n",
    "    print(csvfile.readline())\n",
    "    print(csvfile.readline())"
   ]
  },
  {
   "cell_type": "code",
   "execution_count": 3,
   "metadata": {},
   "outputs": [],
   "source": [
    "# Removing STOP words\n",
    "def remove_stopwords(sentence):\n",
    "    \"\"\"\n",
    "    Removes a list of stopwords\n",
    "    Args: sentence (string): sentence to remove the stopwords from\n",
    "    Returns: sentence(string): lowercase sentence without the stopwords\n",
    "    \"\"\"\n",
    "    \n",
    "    # List of stopwords\n",
    "    stopwords = [\"a\", \"about\", \"above\", \"after\", \"again\", \"against\", \"all\", \"am\", \"an\", \n",
    "                 \"and\", \"any\", \"are\", \"as\", \"at\", \"be\", \"because\", \"been\", \"before\", \n",
    "                 \"being\", \"below\", \"between\", \"both\", \"but\", \"by\", \"could\", \"did\", \"do\", \n",
    "                 \"does\", \"doing\", \"down\", \"during\", \"each\", \"few\", \"for\", \"from\", \"further\", \n",
    "                 \"had\", \"has\", \"have\", \"having\", \"he\", \"he'd\", \"he'll\", \"he's\", \"her\", \"here\", \n",
    "                 \"here's\", \"hers\", \"herself\", \"him\", \"himself\", \"his\", \"how\", \"how's\", \"i\", \n",
    "                 \"i'd\", \"i'll\", \"i'm\", \"i've\", \"if\", \"in\", \"into\", \"is\", \"it\", \"it's\", \"its\", \n",
    "                 \"itself\", \"let's\", \"me\", \"more\", \"most\", \"my\", \"myself\", \"nor\", \"of\", \"on\", \n",
    "                 \"once\", \"only\", \"or\", \"other\", \"ought\", \"our\", \"ours\", \"ourselves\", \"out\", \n",
    "                 \"over\", \"own\", \"same\", \"she\", \"she'd\", \"she'll\", \"she's\", \"should\", \"so\", \n",
    "                 \"some\", \"such\", \"than\", \"that\", \"that's\", \"the\", \"their\", \"theirs\", \"them\", \n",
    "                 \"themselves\", \"then\", \"there\", \"there's\", \"these\", \"they\", \"they'd\", \n",
    "                 \"they'll\", \"they're\", \"they've\", \"this\", \"those\", \"through\", \"to\", \"too\", \n",
    "                 \"under\", \"until\", \"up\", \"very\", \"was\", \"we\", \"we'd\", \"we'll\", \"we're\", \n",
    "                 \"we've\", \"were\", \"what\", \"what's\", \"when\", \"when's\", \"where\", \"where's\", \n",
    "                 \"which\", \"while\", \"who\", \"who's\", \"whom\", \"why\", \"why's\", \"with\", \"would\", \n",
    "                 \"you\", \"you'd\", \"you'll\", \"you're\", \"you've\", \"your\", \"yours\", \"yourself\", \n",
    "                 \"yourselves\" ]\n",
    "    \n",
    "    # Convert to lowercase\n",
    "    sentence = sentence.lower()\n",
    "    \n",
    "    # Elegant version\n",
    "    #sentence = ' '.join([word for word in sentence.split() if word not in stopwords])\n",
    "    \n",
    "    # Basic version\n",
    "    temp = \"\"\n",
    "    for word in sentence.split():\n",
    "        if word not in stopwords:\n",
    "            temp = temp + word + ' '\n",
    "    sentence = temp.strip()    \n",
    "    \n",
    "    return sentence"
   ]
  },
  {
   "cell_type": "code",
   "execution_count": 4,
   "metadata": {},
   "outputs": [
    {
     "data": {
      "text/plain": [
       "'go kitchen lunch'"
      ]
     },
     "execution_count": 4,
     "metadata": {},
     "output_type": "execute_result"
    }
   ],
   "source": [
    "# Test remove_stopwords function\n",
    "remove_stopwords(\"I am about to go to the kitchen and have lunch\")\n",
    "# 'go kitchen lunch'"
   ]
  },
  {
   "cell_type": "code",
   "execution_count": 5,
   "metadata": {},
   "outputs": [],
   "source": [
    "# Reading the raw data\n",
    "# The first line of CSV file should be ommited\n",
    "# Use regular lists\n",
    "# Use csv.reader\n",
    "# This returns an iterable label-> row[0], text -> row[1]\n",
    "# Use the remove_stopwords function in each sentence\n",
    "\n",
    "def parse_data_from_file(filename):\n",
    "    \"\"\"\n",
    "    Extracts sentences and labels from a CSV file\n",
    "    Args: filename (string): path to the CSV file\n",
    "    Returns: sentences, labels (list of strings, list of strings): tuple containing lists\n",
    "    \"\"\"\n",
    "    \n",
    "    sentences = []\n",
    "    labels = []\n",
    "    with open(filename, 'r') as csvfile:\n",
    "        reader = csv.reader(csvfile)#(None, delimiter=None)\n",
    "        # Skip first line\n",
    "        next(reader, None)\n",
    "        for data in reader:\n",
    "            #print(data[0])\n",
    "            sentences.append(remove_stopwords(data[1]))\n",
    "            labels.append(data[0])\n",
    "    return sentences, labels"
   ]
  },
  {
   "cell_type": "code",
   "execution_count": 6,
   "metadata": {},
   "outputs": [
    {
     "name": "stdout",
     "output_type": "stream",
     "text": [
      "ORIGINAL DATASET:\n",
      "There are 2225 sentences in the dataset.\n",
      "First sentence has 436 words (after removing stopwords).\n",
      "\n",
      "['tv', 'future', 'hands', 'viewers', 'home', 'theatre', 'systems', 'plasma', 'high-definition', 'tvs', 'digital', 'video', 'recorders', 'moving', 'living', 'room', 'way', 'people', 'watch', 'tv', 'will', 'radically', 'different', 'five', 'years', 'time.', 'according', 'expert', 'panel', 'gathered', 'annual', 'consumer', 'electronics', 'show', 'las', 'vegas', 'discuss', 'new', 'technologies', 'will', 'impact', 'one', 'favourite', 'pastimes.', 'us', 'leading', 'trend', 'programmes', 'content', 'will', 'delivered', 'viewers', 'via', 'home', 'networks', 'cable', 'satellite', 'telecoms', 'companies', 'broadband', 'service', 'providers', 'front', 'rooms', 'portable', 'devices.', 'one', 'talked-about', 'technologies', 'ces', 'digital', 'personal', 'video', 'recorders', '(dvr', 'pvr).', 'set-top', 'boxes', 'like', 'us', 's', 'tivo', 'uk', 's', 'sky+', 'system', 'allow', 'people', 'record', 'store', 'play', 'pause', 'forward', 'wind', 'tv', 'programmes', 'want.', 'essentially', 'technology', 'allows', 'much', 'personalised', 'tv.', 'also', 'built-in', 'high-definition', 'tv', 'sets', 'big', 'business', 'japan', 'us', 'slower', 'take', 'off', 'europe', 'lack', 'high-definition', 'programming.', 'not', 'can', 'people', 'forward', 'wind', 'adverts', 'can', 'also', 'forget', 'abiding', 'network', 'channel', 'schedules', 'putting', 'together', 'a-la-carte', 'entertainment.', 'us', 'networks', 'cable', 'satellite', 'companies', 'worried', 'means', 'terms', 'advertising', 'revenues', 'well', 'brand', 'identity', 'viewer', 'loyalty', 'channels.', 'although', 'us', 'leads', 'technology', 'moment', 'also', 'concern', 'raised', 'europe', 'particularly', 'growing', 'uptake', 'services', 'like', 'sky+.', 'happens', 'today', 'will', 'see', 'nine', 'months', 'years', 'time', 'uk', 'adam', 'hume', 'bbc', 'broadcast', 's', 'futurologist', 'told', 'bbc', 'news', 'website.', 'likes', 'bbc', 'no', 'issues', 'lost', 'advertising', 'revenue', 'yet.', 'pressing', 'issue', 'moment', 'commercial', 'uk', 'broadcasters', 'brand', 'loyalty', 'important', 'everyone.', 'will', 'talking', 'content', 'brands', 'rather', 'network', 'brands', 'said', 'tim', 'hanlon', 'brand', 'communications', 'firm', 'starcom', 'mediavest.', 'reality', 'broadband', 'connections', 'anybody', 'can', 'producer', 'content.', 'added:', 'challenge', 'now', 'hard', 'promote', 'programme', 'much', 'choice.', 'means', 'said', 'stacey', 'jolna', 'senior', 'vice', 'president', 'tv', 'guide', 'tv', 'group', 'way', 'people', 'find', 'content', 'want', 'watch', 'simplified', 'tv', 'viewers.', 'means', 'networks', 'us', 'terms', 'channels', 'take', 'leaf', 'google', 's', 'book', 'search', 'engine', 'future', 'instead', 'scheduler', 'help', 'people', 'find', 'want', 'watch.', 'kind', 'channel', 'model', 'might', 'work', 'younger', 'ipod', 'generation', 'used', 'taking', 'control', 'gadgets', 'play', 'them.', 'might', 'not', 'suit', 'everyone', 'panel', 'recognised.', 'older', 'generations', 'comfortable', 'familiar', 'schedules', 'channel', 'brands', 'know', 'getting.', 'perhaps', 'not', 'want', 'much', 'choice', 'put', 'hands', 'mr', 'hanlon', 'suggested.', 'end', 'kids', 'just', 'diapers', 'pushing', 'buttons', 'already', '-', 'everything', 'possible', 'available', 'said', 'mr', 'hanlon.', 'ultimately', 'consumer', 'will', 'tell', 'market', 'want.', '50', '000', 'new', 'gadgets', 'technologies', 'showcased', 'ces', 'many', 'enhancing', 'tv-watching', 'experience.', 'high-definition', 'tv', 'sets', 'everywhere', 'many', 'new', 'models', 'lcd', '(liquid', 'crystal', 'display)', 'tvs', 'launched', 'dvr', 'capability', 'built', 'instead', 'external', 'boxes.', 'one', 'example', 'launched', 'show', 'humax', 's', '26-inch', 'lcd', 'tv', '80-hour', 'tivo', 'dvr', 'dvd', 'recorder.', 'one', 'us', 's', 'biggest', 'satellite', 'tv', 'companies', 'directtv', 'even', 'launched', 'branded', 'dvr', 'show', '100-hours', 'recording', 'capability', 'instant', 'replay', 'search', 'function.', 'set', 'can', 'pause', 'rewind', 'tv', '90', 'hours.', 'microsoft', 'chief', 'bill', 'gates', 'announced', 'pre-show', 'keynote', 'speech', 'partnership', 'tivo', 'called', 'tivotogo', 'means', 'people', 'can', 'play', 'recorded', 'programmes', 'windows', 'pcs', 'mobile', 'devices.', 'reflect', 'increasing', 'trend', 'freeing', 'multimedia', 'people', 'can', 'watch', 'want', 'want.']\n",
      "\n",
      "There are 2225 labels in the dataset.\n",
      "The first 5 labels are ['tech', 'business', 'sport', 'sport', 'entertainment']\n",
      "\n",
      "\n"
     ]
    }
   ],
   "source": [
    "# Test parse_data_from_file function\n",
    "sentences, labels = parse_data_from_file(\"bbc-text.csv\")\n",
    "\n",
    "print(\"ORIGINAL DATASET:\")\n",
    "print(f\"There are {len(sentences)} sentences in the dataset.\")\n",
    "print(f\"First sentence has {len(sentences[0].split())} words (after removing stopwords).\\n\")\n",
    "print(sentences[0].split())\n",
    "print()\n",
    "print(f\"There are {len(labels)} labels in the dataset.\")\n",
    "print(f\"The first 5 labels are {labels[:5]}\\n\\n\")"
   ]
  },
  {
   "cell_type": "code",
   "execution_count": 7,
   "metadata": {},
   "outputs": [],
   "source": [
    "# Using TOKENIZER\n",
    "# Input is the list of sentences\n",
    "# Return a Tokenizer that has been fitted to those sentences. Also use OOV\n",
    "def fit_tokenizer(sentences):\n",
    "    \"\"\"\n",
    "    Instantiates the Tokenizer class\n",
    "    Args: sentences (list): lower_cased sentences without stopwords\n",
    "    Returns: tokenizer (object): an instance of the Tokenizer class containing the word-index dict\n",
    "    \"\"\"\n",
    "    \n",
    "    # Instantiate the Tokenizer class by passing in the oov_token argument\n",
    "    tokenizer = Tokenizer(oov_token = \"<OOV>\")\n",
    "    \n",
    "    return tokenizer"
   ]
  },
  {
   "cell_type": "code",
   "execution_count": 8,
   "metadata": {},
   "outputs": [
    {
     "name": "stdout",
     "output_type": "stream",
     "text": [
      "Vocabulary contains 29714 words\n",
      "<OOV> token included in vocabulary\n"
     ]
    }
   ],
   "source": [
    "tokenizer = fit_tokenizer(sentences)\n",
    "\n",
    "# Tokenize input sentences\n",
    "tokenizer.fit_on_texts(sentences)\n",
    "    \n",
    "# Generate word index dict\n",
    "word_index = tokenizer.word_index\n",
    "\n",
    "print(f\"Vocabulary contains {len(word_index)} words\")\n",
    "print(\"<OOV> token included in vocabulary\" if \"<OOV>\" in word_index else \"<OOV> token NOT included in vocabulary\")"
   ]
  },
  {
   "cell_type": "code",
   "execution_count": 9,
   "metadata": {},
   "outputs": [],
   "source": [
    "def get_padded_sequences(tokenizer, sentences):\n",
    "    \"\"\"\n",
    "    Generates an array of token sequences and pads them to the same length\n",
    "    Args:\n",
    "        tokenizer (object): Tokenizer instance containing the word_index dictionary\n",
    "        sentences (list of string): list of sentences to tokenize and pad\n",
    "    Returns:\n",
    "        padded_sequences (array of int): tokenized sentences padded to the same length\n",
    "    \"\"\"\n",
    "    \n",
    "    # Convert sentences to sequences\n",
    "    sequences = tokenizer.texts_to_sequences(sentences)\n",
    "    \n",
    "    # Pad the sequences using the post padding strategy\n",
    "    padded_sequences = pad_sequences(sequences, padding='post')\n",
    "    \n",
    "    return padded_sequences"
   ]
  },
  {
   "cell_type": "code",
   "execution_count": 10,
   "metadata": {},
   "outputs": [
    {
     "name": "stdout",
     "output_type": "stream",
     "text": [
      "First padded sequence: \n",
      " [  96  176 1157 ...    0    0    0]\n",
      "Numpy shape of all sequences: (2225, 2438)\n",
      "There are 2225 sequences in total and each one has a size of 2438\n"
     ]
    }
   ],
   "source": [
    "padded_sequences = get_padded_sequences(tokenizer, sentences)\n",
    "print(f\"First padded sequence: \\n {padded_sequences[0]}\")\n",
    "print(f\"Numpy shape of all sequences: {padded_sequences.shape}\")\n",
    "print(f\"There are {padded_sequences.shape[0]} sequences in total and each one has a size of {padded_sequences.shape[1]}\")"
   ]
  },
  {
   "cell_type": "code",
   "execution_count": 11,
   "metadata": {},
   "outputs": [],
   "source": [
    "def tokenize_labels(labels):\n",
    "    \"\"\"\n",
    "    Tokenizes the labels\n",
    "    Args: labels (list of string): labels to tokenize\n",
    "    Returns: label_sequences, label_word_index (list of string, dictionary): tokenized labels and the\n",
    "           word-index\n",
    "    \"\"\"\n",
    "    \n",
    "    # Instantiate the Toenizer class\n",
    "    label_tokenizer = Tokenizer()#(oov_token = \"<OOV>\") \n",
    "    \n",
    "    # Fit the tokens to the labels\n",
    "    label_tokenizer.fit_on_texts(labels)\n",
    "    \n",
    "    # label word index\n",
    "    label_word_index = label_tokenizer.word_index\n",
    "    \n",
    "    # Label sequences\n",
    "    label_sequences = label_tokenizer.texts_to_sequences(labels)\n",
    "    \n",
    "    return label_sequences, label_word_index"
   ]
  },
  {
   "cell_type": "code",
   "execution_count": 12,
   "metadata": {},
   "outputs": [
    {
     "name": "stdout",
     "output_type": "stream",
     "text": [
      "Vocabulary of labels: {'sport': 1, 'business': 2, 'politics': 3, 'tech': 4, 'entertainment': 5}\n",
      "First ten sequences: [[4], [2], [1], [1], [5], [3], [3], [1], [1], [5]]\n"
     ]
    }
   ],
   "source": [
    "label_sequences, label_word_index = tokenize_labels(labels)\n",
    "print(f\"Vocabulary of labels: {label_word_index}\")\n",
    "print(f\"First ten sequences: {label_sequences[:10]}\")"
   ]
  },
  {
   "cell_type": "code",
   "execution_count": null,
   "metadata": {},
   "outputs": [],
   "source": []
  }
 ],
 "metadata": {
  "kernelspec": {
   "display_name": "Python 3",
   "language": "python",
   "name": "python3"
  },
  "language_info": {
   "codemirror_mode": {
    "name": "ipython",
    "version": 3
   },
   "file_extension": ".py",
   "mimetype": "text/x-python",
   "name": "python",
   "nbconvert_exporter": "python",
   "pygments_lexer": "ipython3",
   "version": "3.7.4"
  }
 },
 "nbformat": 4,
 "nbformat_minor": 2
}
