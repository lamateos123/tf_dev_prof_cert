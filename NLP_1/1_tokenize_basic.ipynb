{
 "cells": [
  {
   "cell_type": "code",
   "execution_count": 1,
   "metadata": {},
   "outputs": [],
   "source": [
    "# NLP basics\n",
    "# 1. Extract vocabulary of woreds from you corpus (input texts)\n",
    "# 2. TOKENS -> How to represent the texts into numerical representations which can be used to train a NN"
   ]
  },
  {
   "cell_type": "code",
   "execution_count": 2,
   "metadata": {},
   "outputs": [
    {
     "name": "stdout",
     "output_type": "stream",
     "text": [
      "{'i': 1, 'love': 2, 'my': 3, 'dog': 4, 'cat': 5}\n"
     ]
    }
   ],
   "source": [
    "from tensorflow.keras.preprocessing.text import Tokenizer\n",
    "\n",
    "# Input sentences\n",
    "sentences = [\n",
    "    \"I love my dog\",\n",
    "    \"I love my cat\"\n",
    "]\n",
    "\n",
    "# Init Tokenizer class\n",
    "tokenizer = Tokenizer(num_words = 100)\n",
    "\n",
    "# Generate indices for each word in the corpus\n",
    "tokenizer.fit_on_texts(sentences)\n",
    "\n",
    "# Get the indices \n",
    "word_index = tokenizer.word_index\n",
    "print(word_index)"
   ]
  },
  {
   "cell_type": "code",
   "execution_count": 3,
   "metadata": {},
   "outputs": [
    {
     "name": "stdout",
     "output_type": "stream",
     "text": [
      "{'love': 1, 'my': 2, 'i': 3, 'dog': 4, 'cat': 5, 'you': 6}\n"
     ]
    }
   ],
   "source": [
    "# Uppercase and punctuation are ignored\n",
    "\n",
    "# Input sentences\n",
    "sentences = [\n",
    "    \"i love my dog\",\n",
    "    \"I, love my cat\",\n",
    "    \"You love my dog!\"\n",
    "]\n",
    "\n",
    "# init Tokenizer class\n",
    "tokenizer = Tokenizer(num_words = 1)\n",
    "\n",
    "# Generate indices for each words in the corpus\n",
    "tokenizer.fit_on_texts(sentences)\n",
    "\n",
    "# Get the indices\n",
    "word_index = tokenizer.word_index\n",
    "print(word_index)"
   ]
  },
  {
   "cell_type": "code",
   "execution_count": null,
   "metadata": {},
   "outputs": [],
   "source": []
  }
 ],
 "metadata": {
  "kernelspec": {
   "display_name": "Python 3",
   "language": "python",
   "name": "python3"
  },
  "language_info": {
   "codemirror_mode": {
    "name": "ipython",
    "version": 3
   },
   "file_extension": ".py",
   "mimetype": "text/x-python",
   "name": "python",
   "nbconvert_exporter": "python",
   "pygments_lexer": "ipython3",
   "version": "3.7.4"
  }
 },
 "nbformat": 4,
 "nbformat_minor": 2
}
